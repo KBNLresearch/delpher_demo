{
 "cells": [
  {
   "cell_type": "markdown",
   "metadata": {},
   "source": [
    "# Visualise the data\n",
    "\n",
    "In this Notebook, we're going to visualise the data. We start with a histogram that shows the amount of articles of a certain subject over time. Then, we make column charts to see which keywords are present in a certain selection, and a wordcloud to display the 20 most common words for a given selection.\n",
    "\n",
    "If you do not have a suitable dataset yet, you can use the [Preparing the data Notebook](https://github.com/KBNLresearch/delpher_demo/blob/main/Notebooks/Preparing%20the%20data.ipynb) to prepare your data. Alternatively, you can use the example datasets ['testset_bag_of_words.csv](https://github.com/KBNLresearch/delpher_demo/blob/main/Data/testset_bagofwords.csv)  and ['testset_keywords.csv](https://github.com/KBNLresearch/delpher_demo/blob/main/Data/testset_keywords.csv) that are located in the data folder of this Github page. The file ['stopwords.csv](https://github.com/KBNLresearch/delpher_demo/blob/main/Data/stopwords.csv) is also needed."
   ]
  },
  {
   "cell_type": "markdown",
   "metadata": {},
   "source": [
    "If you have not yet installed the following packages, please install them on your command line with the following code: \n",
    "```\n",
    "pip install pandas\n",
    "pip install matplotlib\n",
    "pip install wordcloud\n",
    "```"
   ]
  },
  {
   "cell_type": "code",
   "execution_count": 37,
   "metadata": {},
   "outputs": [],
   "source": [
    "## Import the necessary packages\n",
    "import pandas as pd\n",
    "from collections import Counter\n",
    "from wordcloud import WordCloud\n",
    "import matplotlib.pyplot as plt"
   ]
  },
  {
   "cell_type": "code",
   "execution_count": 85,
   "metadata": {},
   "outputs": [],
   "source": [
    "## Load the datasets\n",
    "file_articles = ## Set the folder and name of the file (including .csv) in quotes\n",
    "articles = pd.read_csv(file_articles)\n",
    "file_keywords = ## Set the folder and name of the file (including .csv) in quotes\n",
    "keywords = pd.read_csv(file_keywords)\n",
    "## The stopwords dataset will be loaded later on"
   ]
  },
  {
   "cell_type": "code",
   "execution_count": 61,
   "metadata": {},
   "outputs": [
    {
     "data": {
      "text/html": [
       "<div>\n",
       "<style scoped>\n",
       "    .dataframe tbody tr th:only-of-type {\n",
       "        vertical-align: middle;\n",
       "    }\n",
       "\n",
       "    .dataframe tbody tr th {\n",
       "        vertical-align: top;\n",
       "    }\n",
       "\n",
       "    .dataframe thead th {\n",
       "        text-align: right;\n",
       "    }\n",
       "</style>\n",
       "<table border=\"1\" class=\"dataframe\">\n",
       "  <thead>\n",
       "    <tr style=\"text-align: right;\">\n",
       "      <th></th>\n",
       "      <th>identifier</th>\n",
       "      <th>type</th>\n",
       "      <th>title</th>\n",
       "      <th>papertitle</th>\n",
       "      <th>date</th>\n",
       "      <th>text</th>\n",
       "      <th>category</th>\n",
       "      <th>bag_of_words</th>\n",
       "      <th>year</th>\n",
       "    </tr>\n",
       "  </thead>\n",
       "  <tbody>\n",
       "    <tr>\n",
       "      <th>0</th>\n",
       "      <td>http://resolver.kb.nl/resolve?urn=ddd:01028724...</td>\n",
       "      <td>artikel</td>\n",
       "      <td>Levensgevaar en levensbehoud.</td>\n",
       "      <td>De Groot, Kolff &amp; Co</td>\n",
       "      <td>1867-12-23</td>\n",
       "      <td>Over havenwerken geen uitweiding thans. Wannee...</td>\n",
       "      <td>pandemie</td>\n",
       "      <td>100 150 1844 20 40 50 500 60 80 a a aan aan aa...</td>\n",
       "      <td>1867</td>\n",
       "    </tr>\n",
       "    <tr>\n",
       "      <th>1</th>\n",
       "      <td>http://resolver.kb.nl/resolve?urn=ddd:01028720...</td>\n",
       "      <td>artikel</td>\n",
       "      <td>De Hygiène en de Cholera. Een woord naar aanle...</td>\n",
       "      <td>De Groot, Kolff &amp; Co</td>\n",
       "      <td>1867-09-13</td>\n",
       "      <td>Onze goede veste wordt wederom bezocht door ee...</td>\n",
       "      <td>pandemie</td>\n",
       "      <td>1 1 aan aanoch af afgevoerd al als als als als...</td>\n",
       "      <td>1867</td>\n",
       "    </tr>\n",
       "  </tbody>\n",
       "</table>\n",
       "</div>"
      ],
      "text/plain": [
       "                                          identifier     type  \\\n",
       "0  http://resolver.kb.nl/resolve?urn=ddd:01028724...  artikel   \n",
       "1  http://resolver.kb.nl/resolve?urn=ddd:01028720...  artikel   \n",
       "\n",
       "                                               title            papertitle  \\\n",
       "0                      Levensgevaar en levensbehoud.  De Groot, Kolff & Co   \n",
       "1  De Hygiène en de Cholera. Een woord naar aanle...  De Groot, Kolff & Co   \n",
       "\n",
       "         date                                               text  category  \\\n",
       "0  1867-12-23  Over havenwerken geen uitweiding thans. Wannee...  pandemie   \n",
       "1  1867-09-13  Onze goede veste wordt wederom bezocht door ee...  pandemie   \n",
       "\n",
       "                                        bag_of_words  year  \n",
       "0  100 150 1844 20 40 50 500 60 80 a a aan aan aa...  1867  \n",
       "1  1 1 aan aanoch af afgevoerd al als als als als...  1867  "
      ]
     },
     "execution_count": 61,
     "metadata": {},
     "output_type": "execute_result"
    }
   ],
   "source": [
    "## Check if everything is loaded correctly\n",
    "articles.head(2)"
   ]
  },
  {
   "cell_type": "code",
   "execution_count": 62,
   "metadata": {},
   "outputs": [
    {
     "data": {
      "text/html": [
       "<div>\n",
       "<style scoped>\n",
       "    .dataframe tbody tr th:only-of-type {\n",
       "        vertical-align: middle;\n",
       "    }\n",
       "\n",
       "    .dataframe tbody tr th {\n",
       "        vertical-align: top;\n",
       "    }\n",
       "\n",
       "    .dataframe thead th {\n",
       "        text-align: right;\n",
       "    }\n",
       "</style>\n",
       "<table border=\"1\" class=\"dataframe\">\n",
       "  <thead>\n",
       "    <tr style=\"text-align: right;\">\n",
       "      <th></th>\n",
       "      <th>identifier</th>\n",
       "      <th>keyword</th>\n",
       "    </tr>\n",
       "  </thead>\n",
       "  <tbody>\n",
       "    <tr>\n",
       "      <th>0</th>\n",
       "      <td>http://resolver.kb.nl/resolve?urn=ddd:01028724...</td>\n",
       "      <td>ziekte</td>\n",
       "    </tr>\n",
       "    <tr>\n",
       "      <th>1</th>\n",
       "      <td>http://resolver.kb.nl/resolve?urn=ddd:01028681...</td>\n",
       "      <td>ziekte</td>\n",
       "    </tr>\n",
       "  </tbody>\n",
       "</table>\n",
       "</div>"
      ],
      "text/plain": [
       "                                          identifier keyword\n",
       "0  http://resolver.kb.nl/resolve?urn=ddd:01028724...  ziekte\n",
       "1  http://resolver.kb.nl/resolve?urn=ddd:01028681...  ziekte"
      ]
     },
     "execution_count": 62,
     "metadata": {},
     "output_type": "execute_result"
    }
   ],
   "source": [
    "keywords.head(2)"
   ]
  },
  {
   "cell_type": "markdown",
   "metadata": {},
   "source": [
    "## Choose a category\n",
    "\n",
    "As first step, we are going to explore which categories are present in the data. Then we choose a category that will be used for the upcoming charts. If you want to change the category, all the following code will need to be run again to get the adapted output."
   ]
  },
  {
   "cell_type": "code",
   "execution_count": 63,
   "metadata": {},
   "outputs": [
    {
     "name": "stdout",
     "output_type": "stream",
     "text": [
      "['pandemie' 'immuniteit' 'uitbraak']\n"
     ]
    }
   ],
   "source": [
    "print(articles['category'].unique())"
   ]
  },
  {
   "cell_type": "markdown",
   "metadata": {},
   "source": [
    "Choose one category and store it in a variable:"
   ]
  },
  {
   "cell_type": "code",
   "execution_count": 64,
   "metadata": {},
   "outputs": [],
   "source": [
    "## Set the variable for category, this will be used in the subsequent steps.\n",
    "## If you change it, rerun all the cells beneath this cell in order to get the adapted output.\n",
    "category = \"immuniteit\""
   ]
  },
  {
   "cell_type": "markdown",
   "metadata": {},
   "source": [
    "## Histogram\n",
    "\n",
    "We plot a histogram which visualises the amount of articels per year for a given category."
   ]
  },
  {
   "cell_type": "code",
   "execution_count": 65,
   "metadata": {},
   "outputs": [],
   "source": [
    "## We now create a subframe which only contains the articles of the choosen category\n",
    "category_frame = articles[articles['category'] == category]"
   ]
  },
  {
   "cell_type": "code",
   "execution_count": 103,
   "metadata": {},
   "outputs": [
    {
     "data": {
      "image/png": "[encoded data removed]",
      "text/plain": [
       "<Figure size 432x288 with 1 Axes>"
      ]
     },
     "metadata": {
      "needs_background": "light"
     },
     "output_type": "display_data"
    }
   ],
   "source": [
    "import matplotlib.pyplot as plt\n",
    "import numpy as np\n",
    "%matplotlib inline\n",
    "x = category_frame['year']\n",
    "plt.hist(x,  bins=40) \n",
    "plt.title(\"Amount of articles per year for the category \"+category, fontsize=16)\n",
    "plt.ylabel('Amount of articles', fontsize=12)\n",
    "plt.xlabel('Years', fontsize=12);"
   ]
  },
  {
   "cell_type": "markdown",
   "metadata": {},
   "source": [
    "## Column chart for keyword frequencies\n",
    "\n",
    "This chart shows the amount of articles that contain a certain keyword for a given year. "
   ]
  },
  {
   "cell_type": "code",
   "execution_count": 67,
   "metadata": {},
   "outputs": [],
   "source": [
    "## As the first step, we add the category and year information to the keywords frame\n",
    "cat_and_year = articles[['identifier', 'year', 'category']]\n",
    "keyword_ext = keywords.merge(cat_and_year, on = 'identifier', how = 'left')"
   ]
  },
  {
   "cell_type": "code",
   "execution_count": 108,
   "metadata": {},
   "outputs": [
    {
     "data": {
      "text/html": [
       "<div>\n",
       "<style scoped>\n",
       "    .dataframe tbody tr th:only-of-type {\n",
       "        vertical-align: middle;\n",
       "    }\n",
       "\n",
       "    .dataframe tbody tr th {\n",
       "        vertical-align: top;\n",
       "    }\n",
       "\n",
       "    .dataframe thead th {\n",
       "        text-align: right;\n",
       "    }\n",
       "</style>\n",
       "<table border=\"1\" class=\"dataframe\">\n",
       "  <thead>\n",
       "    <tr style=\"text-align: right;\">\n",
       "      <th></th>\n",
       "      <th>identifier</th>\n",
       "      <th>keyword</th>\n",
       "      <th>year</th>\n",
       "      <th>category</th>\n",
       "    </tr>\n",
       "  </thead>\n",
       "  <tbody>\n",
       "    <tr>\n",
       "      <th>0</th>\n",
       "      <td>http://resolver.kb.nl/resolve?urn=ddd:01028724...</td>\n",
       "      <td>ziekte</td>\n",
       "      <td>1867</td>\n",
       "      <td>pandemie</td>\n",
       "    </tr>\n",
       "    <tr>\n",
       "      <th>1</th>\n",
       "      <td>http://resolver.kb.nl/resolve?urn=ddd:01028681...</td>\n",
       "      <td>ziekte</td>\n",
       "      <td>1865</td>\n",
       "      <td>pandemie</td>\n",
       "    </tr>\n",
       "  </tbody>\n",
       "</table>\n",
       "</div>"
      ],
      "text/plain": [
       "                                          identifier keyword  year  category\n",
       "0  http://resolver.kb.nl/resolve?urn=ddd:01028724...  ziekte  1867  pandemie\n",
       "1  http://resolver.kb.nl/resolve?urn=ddd:01028681...  ziekte  1865  pandemie"
      ]
     },
     "execution_count": 108,
     "metadata": {},
     "output_type": "execute_result"
    }
   ],
   "source": [
    "## Check if everything went correctly\n",
    "keyword_ext.head(2)"
   ]
  },
  {
   "cell_type": "code",
   "execution_count": 69,
   "metadata": {},
   "outputs": [],
   "source": [
    "## Now we can create a dataframe  with the selected category, and use that to display the column chart of keywords\n",
    "keyword_ext_cat = keyword_ext[keyword_ext['category'] == category]"
   ]
  },
  {
   "cell_type": "markdown",
   "metadata": {},
   "source": [
    "#### Column chart for the total category"
   ]
  },
  {
   "cell_type": "code",
   "execution_count": 105,
   "metadata": {},
   "outputs": [
    {
     "data": {
      "image/png": "[encoded data removed]",
      "text/plain": [
       "<Figure size 432x288 with 1 Axes>"
      ]
     },
     "metadata": {
      "needs_background": "light"
     },
     "output_type": "display_data"
    }
   ],
   "source": [
    "## Display the column chart\n",
    "keyword_ext_cat.keyword.value_counts().sort_values().plot(kind = 'bar')\n",
    "plt.xticks(rotation=30, fontsize=12)\n",
    "plt.title(\"Keyword count for the category \"+category, fontsize=16)\n",
    "plt.show()"
   ]
  },
  {
   "cell_type": "markdown",
   "metadata": {},
   "source": [
    "#### Column chart for a certain year from the selected category"
   ]
  },
  {
   "cell_type": "code",
   "execution_count": 71,
   "metadata": {},
   "outputs": [
    {
     "data": {
      "text/plain": [
       "array([1862, 1869, 1880, 1874, 1878, 1873, 1865, 1875, 1871, 1857, 1870,\n",
       "       1879, 1850, 1866, 1876, 1854, 1867, 1861, 1778, 1841, 1831, 1674,\n",
       "       1863, 1775, 1761, 1772, 1872, 1749, 1838, 1783, 1781, 1786, 1834,\n",
       "       1704, 1830, 1768, 1842, 1835, 1860, 1855, 1784, 1868, 1837, 1780,\n",
       "       1779, 1832, 1877, 1794, 1788, 1785], dtype=int64)"
      ]
     },
     "execution_count": 71,
     "metadata": {},
     "output_type": "execute_result"
    }
   ],
   "source": [
    "## See which years are available for the current selection\n",
    "keyword_ext_cat['year'].unique()"
   ]
  },
  {
   "cell_type": "code",
   "execution_count": 72,
   "metadata": {},
   "outputs": [],
   "source": [
    "## And set one of the years as variabele\n",
    "year = 1867 "
   ]
  },
  {
   "cell_type": "code",
   "execution_count": 73,
   "metadata": {},
   "outputs": [],
   "source": [
    "## We create a dataframe which only contains keywords of the chosen year\n",
    "keyword_ext_cat_year = keyword_ext_cat[keyword_ext_cat['year'] == year]"
   ]
  },
  {
   "cell_type": "code",
   "execution_count": 107,
   "metadata": {},
   "outputs": [
    {
     "data": {
      "image/png": "[encoded data removed]",
      "text/plain": [
       "<Figure size 432x288 with 1 Axes>"
      ]
     },
     "metadata": {
      "needs_background": "light"
     },
     "output_type": "display_data"
    }
   ],
   "source": [
    "## And then display the column chart\n",
    "keyword_ext_cat_year.keyword.value_counts().sort_values().plot(kind = 'bar')\n",
    "plt.xticks(rotation=30, fontsize=12)\n",
    "plt.title(\"Keyword count for the year \"+str(year)+\" and the category \"+category, fontsize=16)\n",
    "plt.show()\n"
   ]
  },
  {
   "cell_type": "markdown",
   "metadata": {},
   "source": [
    "## Wordcloud"
   ]
  },
  {
   "cell_type": "code",
   "execution_count": 89,
   "metadata": {},
   "outputs": [],
   "source": [
    "## We now create a subframe which only contains the articles of the chosen category\n",
    "category_frame = articles[articles['category'] == category]"
   ]
  },
  {
   "cell_type": "code",
   "execution_count": 76,
   "metadata": {},
   "outputs": [],
   "source": [
    "## Read the file with the stopwords\n",
    "path_stop = ## Set the folder and name of the file (including .csv) in quotes\n",
    "stop = pd.read_csv(path_stop, header=None, names = ['words'])"
   ]
  },
  {
   "cell_type": "code",
   "execution_count": 77,
   "metadata": {},
   "outputs": [],
   "source": [
    "## Transform the frame with the stopwords to a list\n",
    "stop = stop['words'].tolist()"
   ]
  },
  {
   "cell_type": "code",
   "execution_count": 90,
   "metadata": {},
   "outputs": [],
   "source": [
    "## Transform the 'bag of words' column into a list\n",
    "category_frame.loc[:,'bag_of_words'] = category_frame.loc[:,'bag_of_words'].apply(lambda x: list(x.split(\" \")))\n",
    "## And then make a list of this column\n",
    "word_list = category_frame['bag_of_words'].tolist()"
   ]
  },
  {
   "cell_type": "code",
   "execution_count": 91,
   "metadata": {},
   "outputs": [],
   "source": [
    "## We now have a list of lists, which we will transform into a single list with each word as a seperate element\n",
    "bow = []\n",
    "for i in word_list:\n",
    "    bow = bow + i\n",
    " "
   ]
  },
  {
   "cell_type": "code",
   "execution_count": 92,
   "metadata": {},
   "outputs": [],
   "source": [
    "## Then we use that list to create a dictionary of word frequencies\n",
    "words = {}\n",
    "\n",
    "for i in bow:\n",
    "    if i not in stop:\n",
    "        if i in words:\n",
    "            words[i] += 1\n",
    "        else:\n",
    "            words[i] = 1"
   ]
  },
  {
   "cell_type": "code",
   "execution_count": 93,
   "metadata": {},
   "outputs": [],
   "source": [
    "## Then we use the counter to count the 20 most common words\n",
    "top_words = dict(Counter(words).most_common(15))"
   ]
  },
  {
   "cell_type": "code",
   "execution_count": 94,
   "metadata": {},
   "outputs": [
    {
     "data": {
      "image/png": "[encoded data removed]",
      "text/plain": [
       "<Figure size 432x288 with 1 Axes>"
      ]
     },
     "metadata": {
      "needs_background": "light"
     },
     "output_type": "display_data"
    }
   ],
   "source": [
    "## We set the parameters for the wordcloud\n",
    "wc = WordCloud(background_color=\"white\", max_words=20)\n",
    "    \n",
    "wc.generate_from_frequencies(top_words)\n",
    "\n",
    "plt.figure()\n",
    "plt.imshow(wc, interpolation=\"bilinear\")\n",
    "plt.axis(\"off\")\n",
    "plt.show()"
   ]
  }
 ],
 "metadata": {
  "kernelspec": {
   "display_name": "Python 3",
   "language": "python",
   "name": "python3"
  },
  "language_info": {
   "codemirror_mode": {
    "name": "ipython",
    "version": 3
   },
   "file_extension": ".py",
   "mimetype": "text/x-python",
   "name": "python",
   "nbconvert_exporter": "python",
   "pygments_lexer": "ipython3",
   "version": "3.7.1"
  }
 },
 "nbformat": 4,
 "nbformat_minor": 2
}
